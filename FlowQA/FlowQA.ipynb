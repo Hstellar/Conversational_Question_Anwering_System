{
  "cells": [
    {
      "cell_type": "code",
      "execution_count": null,
      "metadata": {
        "id": "y3YQMeWe4ycm"
      },
      "outputs": [],
      "source": [
        "!chmod +x download.sh\n",
        "!./download.sh"
      ]
    },
    {
      "cell_type": "code",
      "execution_count": null,
      "metadata": {
        "id": "WC_3iUsS6cgZ"
      },
      "outputs": [],
      "source": [
        "#Preprocessing using train_subset.json and dev_subset.json\n",
        "!python preprocess_CoQA.py --train_file train_subset.json --dev_file dev_subset.json"
      ]
    },
    {
      "cell_type": "code",
      "execution_count": null,
      "metadata": {
        "id": "9SPJC5oEOxbz"
      },
      "outputs": [],
      "source": [
        "#Runs on GPU and CPU. GPU is preferred for lower runtimesye\n",
        "!python train_CoQA.py --name model_name --epoches 4 --valid_file dev_subset.json\n"
      ]
    }
  ],
  "metadata": {
    "colab": {
      "collapsed_sections": [],
      "name": "FlowQA.ipynb",
      "provenance": [],
      "machine_shape": "hm"
    },
    "kernelspec": {
      "display_name": "Python 3",
      "name": "python3"
    },
    "language_info": {
      "name": "python"
    },
    "accelerator": "GPU"
  },
  "nbformat": 4,
  "nbformat_minor": 0
}