{
  "cells": [
    {
      "cell_type": "code",
      "execution_count": null,
      "metadata": {
        "id": "y3YQMeWe4ycm"
      },
      "outputs": [],
      "source": [
        "#Script downloads libraries and embeddings\n",
        "# Download CoQA\n",
        "!mkdir -p CoQA\n",
        "!wget https://worksheets.codalab.org/rest/bundles/0xe3674fd34560425786f97541ec91aeb8/contents/blob/ -O CoQA/train.json\n",
        "!wget https://worksheets.codalab.org/rest/bundles/0xe254829ab81946198433c4da847fb485/contents/blob/ -O CoQA/dev.json\n",
        "\n",
        "# Download GloVe\n",
        "!mkdir -p glove\n",
        "!wget http://nlp.stanford.edu/data/glove.840B.300d.zip -O glove/glove.840B.300d.zip\n",
        "!unzip glove/glove.840B.300d.zip -d glove\n",
        "\n",
        "#Download CoVe\n",
        "!wget https://s3.amazonaws.com/research.metamind.io/cove/wmtlstm-b142a7f2.pth -O glove/MT-LSTM.pth\n",
        "#Requirements.txt needed in the directory\n",
        "!pip install -r requirements.txt\n",
        "!python -m spacy download en_core_web_sm  # Download SpaCy English language models\n",
        "!pip install --upgrade google-cloud-storage"
      ]
    },
    {
      "cell_type": "code",
      "execution_count": null,
      "metadata": {
        "id": "WC_3iUsS6cgZ"
      },
      "outputs": [],
      "source": [
        "#Preprocessing using train_subset.json and dev_subset.json\n",
        "!python preprocess_CoQA.py --train_file train_subset.json --dev_file dev_subset.json"
      ]
    },
    {
      "cell_type": "code",
      "execution_count": null,
      "metadata": {
        "id": "9SPJC5oEOxbz"
      },
      "outputs": [],
      "source": [
        "#Runs on GPU and CPU. GPU is preferred for lower runtimesye\n",
        "!python train_CoQA.py --name model_name --epoches 4 --valid_file dev_subset.json\n"
      ]
    }
  ],
  "metadata": {
    "colab": {
      "collapsed_sections": [],
      "name": "FlowQA.ipynb",
      "provenance": [],
      "machine_shape": "hm"
    },
    "kernelspec": {
      "display_name": "Python 3",
      "name": "python3"
    },
    "language_info": {
      "name": "python"
    },
    "accelerator": "GPU"
  },
  "nbformat": 4,
  "nbformat_minor": 0
}